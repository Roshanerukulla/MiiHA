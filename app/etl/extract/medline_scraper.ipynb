{
 "cells": [
  {
   "cell_type": "code",
   "execution_count": 2,
   "id": "ea4caea3",
   "metadata": {},
   "outputs": [],
   "source": [
    "import xml.etree.ElementTree as ET\n",
    "import requests\n",
    "import os\n",
    "import json\n",
    "from datetime import datetime\n",
    "from pathlib import Path\n"
   ]
  },
  {
   "cell_type": "code",
   "execution_count": 3,
   "id": "ab2afe34",
   "metadata": {},
   "outputs": [
    {
     "name": "stdout",
     "output_type": "stream",
     "text": [
      "📁 XML already exists and is non-empty\n"
     ]
    }
   ],
   "source": [
    "from pathlib import Path\n",
    "import requests\n",
    "\n",
    "xml_url = \"https://medlineplus.gov/xml/mplus_topics_2025-04-24.xml\"\n",
    "xml_path = Path(\"E:/MiiHA/app/data/raw/medlineplus_healthtopics.xml\")\n",
    "\n",
    "\n",
    "# Always recreate if file is empty or missing\n",
    "if not xml_path.exists() or xml_path.stat().st_size == 0:\n",
    "    print(\"⚠️ Existing XML file is empty or missing — redownloading...\")\n",
    "    response = requests.get(xml_url)\n",
    "    response.raise_for_status()\n",
    "    xml_path.write_bytes(response.content)\n",
    "    print(\"✅ XML downloaded and saved:\", xml_path)\n",
    "else:\n",
    "    print(\"📁 XML already exists and is non-empty\")\n",
    "\n"
   ]
  },
  {
   "cell_type": "code",
   "execution_count": 4,
   "id": "42b5f688",
   "metadata": {},
   "outputs": [
    {
     "name": "stdout",
     "output_type": "stream",
     "text": [
      " Parsed and saved 1017 topics to E:\\MiiHA\\app\\data\\processed\\medlineplus_health_topics.jsonl\n"
     ]
    }
   ],
   "source": [
    "\n",
    "import json\n",
    "\n",
    "xml_path = Path(\"E:/MiiHA/app/data/raw/medlineplus_healthtopics.xml\")\n",
    "output_path = Path(\"E:/MiiHA/app/data/processed/medlineplus_health_topics.jsonl\")\n",
    "\n",
    "tree = ET.parse(xml_path)\n",
    "root = tree.getroot()\n",
    "\n",
    "parsed_records = []\n",
    "\n",
    "for topic in root.findall(\".//health-topic\"):\n",
    "   \n",
    "    if topic.attrib.get(\"language\", \"English\") != \"English\": #ONLY ENGLISH TOPICS\n",
    "        continue\n",
    "\n",
    "    topic_data = {\n",
    "        \"id\": topic.attrib.get(\"id\"),\n",
    "        \"title\": topic.attrib.get(\"title\"),\n",
    "        \"url\": topic.attrib.get(\"url\"),\n",
    "        \"language\": topic.attrib.get(\"language\", \"English\"),\n",
    "        \"date_created\": topic.attrib.get(\"date-created\"),\n",
    "        \"summary\": topic.findtext(\"full-summary\"),\n",
    "        \"also_called\": [ac.text for ac in topic.findall(\"also-called\")],\n",
    "        \"groups\": [g.text for g in topic.findall(\"group\")],\n",
    "        \"mesh_terms\": [m.findtext(\"descriptor\") for m in topic.findall(\"mesh-heading\")],\n",
    "        \"see_references\": [ref.text for ref in topic.findall(\"see-reference\")],\n",
    "        \"primary_institute\": topic.findtext(\"primary-institute\"),\n",
    "        \"source_sites\": []\n",
    "    }\n",
    "\n",
    "    for site in topic.findall(\"site\"):\n",
    "        topic_data[\"source_sites\"].append({\n",
    "            \"title\": site.attrib.get(\"title\"),\n",
    "            \"url\": site.attrib.get(\"url\"),\n",
    "            \"category\": site.findtext(\"information-category\"),\n",
    "            \"organization\": site.findtext(\"organization\")\n",
    "        })\n",
    "\n",
    "    parsed_records.append(topic_data)\n",
    "\n",
    "\n",
    "# Save to JSONL\n",
    "output_path.parent.mkdir(parents=True, exist_ok=True)\n",
    "\n",
    "with open(output_path, \"w\", encoding=\"utf-8\") as f:\n",
    "    for record in parsed_records:\n",
    "        json.dump(record, f, ensure_ascii=False)\n",
    "        f.write(\"\\n\")\n",
    "\n",
    "print(f\" Parsed and saved {len(parsed_records)} topics to {output_path}\")\n"
   ]
  },
  {
   "cell_type": "code",
   "execution_count": null,
   "id": "0b15d438",
   "metadata": {},
   "outputs": [],
   "source": []
  },
  {
   "cell_type": "code",
   "execution_count": null,
   "id": "32dd6b20",
   "metadata": {},
   "outputs": [
    {
     "name": "stdout",
     "output_type": "stream",
     "text": [
      "✅ Saved processed data to: app\\data\\processed\\medlineplus_health_topics.jsonl\n"
     ]
    }
   ],
   "source": []
  },
  {
   "cell_type": "code",
   "execution_count": null,
   "id": "f58455df",
   "metadata": {},
   "outputs": [
    {
     "name": "stdout",
     "output_type": "stream",
     "text": [
      "✅ Saved to medlineplus_health_topics.jsonl\n"
     ]
    }
   ],
   "source": []
  },
  {
   "cell_type": "code",
   "execution_count": null,
   "id": "70905a60",
   "metadata": {},
   "outputs": [],
   "source": []
  },
  {
   "cell_type": "code",
   "execution_count": null,
   "id": "7be496e6",
   "metadata": {},
   "outputs": [],
   "source": []
  },
  {
   "cell_type": "code",
   "execution_count": null,
   "id": "25b56da5",
   "metadata": {},
   "outputs": [],
   "source": []
  }
 ],
 "metadata": {
  "kernelspec": {
   "display_name": "miiha",
   "language": "python",
   "name": "python3"
  },
  "language_info": {
   "codemirror_mode": {
    "name": "ipython",
    "version": 3
   },
   "file_extension": ".py",
   "mimetype": "text/x-python",
   "name": "python",
   "nbconvert_exporter": "python",
   "pygments_lexer": "ipython3",
   "version": "3.11.4"
  }
 },
 "nbformat": 4,
 "nbformat_minor": 5
}
