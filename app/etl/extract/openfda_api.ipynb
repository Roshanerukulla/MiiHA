{
 "cells": [
  {
   "cell_type": "code",
   "execution_count": 1,
   "id": "c9c8606b",
   "metadata": {},
   "outputs": [],
   "source": [
    "# Install requests if not available\n",
    "# pip install requests\n",
    "\n",
    "import requests\n",
    "import json\n",
    "from pathlib import Path\n"
   ]
  },
  {
   "cell_type": "code",
   "execution_count": 3,
   "id": "160c8476",
   "metadata": {},
   "outputs": [
    {
     "name": "stdout",
     "output_type": "stream",
     "text": [
      "✅ Saved raw OpenFDA drugs: 1000 records\n"
     ]
    }
   ],
   "source": [
    "import requests\n",
    "import json\n",
    "from pathlib import Path\n",
    "\n",
    "# Pull OpenFDA drug labels (approx 500-1000 drugs)\n",
    "url = \"https://api.fda.gov/drug/label.json\"\n",
    "params = {\n",
    "    \"limit\": 1000  # Pull maximum allowed in one shot\n",
    "}\n",
    "\n",
    "response = requests.get(url, params=params)\n",
    "data = response.json()\n",
    "\n",
    "# Save RAW\n",
    "raw_output = Path(\"E:/MiiHA/app/data/raw/openfda_all_drugs.json\")\n",
    "raw_output.parent.mkdir(parents=True, exist_ok=True)\n",
    "\n",
    "with open(raw_output, \"w\", encoding=\"utf-8\") as f:\n",
    "    json.dump(data, f, indent=2)\n",
    "\n",
    "print(f\"✅ Saved raw OpenFDA drugs: {len(data.get('results', []))} records\")\n"
   ]
  },
  {
   "cell_type": "code",
   "execution_count": 4,
   "id": "1548a3d6",
   "metadata": {},
   "outputs": [
    {
     "name": "stdout",
     "output_type": "stream",
     "text": [
      "✅ Saved processed OpenFDA data: 974 records\n"
     ]
    }
   ],
   "source": [
    "# Load RAW\n",
    "with open(raw_output, \"r\", encoding=\"utf-8\") as f:\n",
    "    raw_data = json.load(f)\n",
    "\n",
    "# Parse Meaningful Text\n",
    "processed = []\n",
    "for item in raw_data.get(\"results\", []):\n",
    "    usage = item.get(\"indications_and_usage\", [\"\"])[0] if \"indications_and_usage\" in item else \"\"\n",
    "    warnings = item.get(\"warnings\", [\"\"])[0] if \"warnings\" in item else \"\"\n",
    "    description = usage + \"\\n\" + warnings\n",
    "    if description.strip():\n",
    "        record = {\n",
    "            \"id\": item.get(\"id\", \"\"),\n",
    "            \"brand_name\": item.get(\"openfda\", {}).get(\"brand_name\", [\"Unknown\"])[0],\n",
    "            \"generic_name\": item.get(\"openfda\", {}).get(\"generic_name\", [\"Unknown\"])[0],\n",
    "            \"route\": item.get(\"openfda\", {}).get(\"route\", [\"Unknown\"])[0],\n",
    "            \"purpose\": item.get(\"purpose\", [\"\"])[0] if \"purpose\" in item else \"\",\n",
    "            \"description\": description.strip()\n",
    "        }\n",
    "        processed.append(record)\n",
    "\n",
    "# Save Processed\n",
    "processed_output = Path(\"E:/MiiHA/app/data/processed/openfda_all_drugs.jsonl\")\n",
    "processed_output.parent.mkdir(parents=True, exist_ok=True)\n",
    "\n",
    "with open(processed_output, \"w\", encoding=\"utf-8\") as f:\n",
    "    for record in processed:\n",
    "        json.dump(record, f)\n",
    "        f.write(\"\\n\")\n",
    "\n",
    "print(f\"✅ Saved processed OpenFDA data: {len(processed)} records\")\n"
   ]
  },
  {
   "cell_type": "code",
   "execution_count": 7,
   "id": "22f0856d",
   "metadata": {},
   "outputs": [
    {
     "name": "stderr",
     "output_type": "stream",
     "text": [
      "Batches: 100%|██████████| 31/31 [00:09<00:00,  3.16it/s]"
     ]
    },
    {
     "name": "stdout",
     "output_type": "stream",
     "text": [
      "✅ FAISS index and metadata saved: 974 entries\n"
     ]
    },
    {
     "name": "stderr",
     "output_type": "stream",
     "text": [
      "\n"
     ]
    }
   ],
   "source": [
    "from sentence_transformers import SentenceTransformer\n",
    "import faiss\n",
    "import numpy as np\n",
    "\n",
    "# Load processed\n",
    "docs = []\n",
    "with open(\"E:/MiiHA/app/data/processed/openfda_all_drugs.jsonl\", \"r\", encoding=\"utf-8\") as f:\n",
    "    for line in f:\n",
    "        docs.append(json.loads(line))\n",
    "\n",
    "texts = [doc[\"description\"] for doc in docs]\n",
    "\n",
    "# Embed\n",
    "model = SentenceTransformer(\"sentence-transformers/all-MiniLM-L6-v2\")\n",
    "embeddings = model.encode(texts, show_progress_bar=True)\n",
    "\n",
    "# Build FAISS\n",
    "dimension = embeddings.shape[1]\n",
    "index = faiss.IndexFlatL2(dimension)\n",
    "index.add(np.array(embeddings).astype(\"float32\"))\n",
    "\n",
    "# Save\n",
    "faiss_output_path = Path(\"E:/MiiHA/app/db/openfda_all_drugs.index\")\n",
    "faiss_output_path.parent.mkdir(parents=True, exist_ok=True)\n",
    "faiss.write_index(index, str(faiss_output_path))\n",
    "\n",
    "# Save metadata\n",
    "metadata = [{\"id\": doc[\"id\"], \"brand_name\": doc[\"brand_name\"], \"generic_name\": doc[\"generic_name\"], \"purpose\": doc[\"purpose\"], \"route\": doc[\"route\"]} for doc in docs]\n",
    "\n",
    "metadata_output_path = Path(\"E:/MiiHA/app/data/metadata/openfda_all_drugs_metadata.json\")\n",
    "metadata_output_path.parent.mkdir(parents=True, exist_ok=True)\n",
    "with open(metadata_output_path, \"w\", encoding=\"utf-8\") as f:\n",
    "    json.dump(metadata, f, indent=2)\n",
    "\n",
    "print(f\"✅ FAISS index and metadata saved: {len(metadata)} entries\")\n"
   ]
  },
  {
   "cell_type": "code",
   "execution_count": null,
   "id": "050506af",
   "metadata": {},
   "outputs": [],
   "source": []
  },
  {
   "cell_type": "code",
   "execution_count": null,
   "id": "529b5044",
   "metadata": {},
   "outputs": [],
   "source": []
  }
 ],
 "metadata": {
  "kernelspec": {
   "display_name": "miiha",
   "language": "python",
   "name": "python3"
  },
  "language_info": {
   "codemirror_mode": {
    "name": "ipython",
    "version": 3
   },
   "file_extension": ".py",
   "mimetype": "text/x-python",
   "name": "python",
   "nbconvert_exporter": "python",
   "pygments_lexer": "ipython3",
   "version": "3.11.4"
  }
 },
 "nbformat": 4,
 "nbformat_minor": 5
}
