{
 "cells": [
  {
   "cell_type": "code",
   "execution_count": 5,
   "id": "a50057fc",
   "metadata": {},
   "outputs": [
    {
     "name": "stdout",
     "output_type": "stream",
     "text": [
      "✅ Loaded 1017 health topics\n"
     ]
    }
   ],
   "source": [
    "import json\n",
    "\n",
    "input_path = \"E:/MiiHA/app/data/processed/medlineplus_health_topics.jsonl\"\n",
    "\n",
    "records = []\n",
    "with open(input_path, \"r\", encoding=\"utf-8\") as f:\n",
    "    for line in f:\n",
    "        records.append(json.loads(line))\n",
    "\n",
    "print(f\"✅ Loaded {len(records)} health topics\")\n"
   ]
  },
  {
   "cell_type": "code",
   "execution_count": 6,
   "id": "d4da5a86",
   "metadata": {},
   "outputs": [],
   "source": [
    "from bs4 import BeautifulSoup\n",
    "\n",
    "def clean_html(html_text):\n",
    "    soup = BeautifulSoup(html_text, \"html.parser\")\n",
    "    return soup.get_text(separator=\"\\n\")\n",
    "\n",
    "for record in records:\n",
    "    if \"summary\" in record:\n",
    "        record[\"cleaned_text\"] = clean_html(record[\"summary\"])\n"
   ]
  },
  {
   "cell_type": "code",
   "execution_count": 8,
   "id": "8405bf1c",
   "metadata": {},
   "outputs": [
    {
     "name": "stdout",
     "output_type": "stream",
     "text": [
      "✅ Created 2612 text chunks\n"
     ]
    }
   ],
   "source": [
    "def chunk_text(text, max_words=150):\n",
    "    words = text.split()\n",
    "    return [\" \".join(words[i:i + max_words]) for i in range(0, len(words), max_words)]\n",
    "\n",
    "chunked_records = []\n",
    "\n",
    "for record in records:\n",
    "    chunks = chunk_text(record.get(\"cleaned_text\", \"\"))\n",
    "    for i, chunk in enumerate(chunks):\n",
    "        chunked_records.append({\n",
    "            \"id\": f\"{record['id']}_{i}\",\n",
    "            \"title\": record[\"title\"],\n",
    "            \"url\": record[\"url\"],\n",
    "            \"text\": chunk,\n",
    "            \"source\": \"MedlinePlus\"\n",
    "        })\n",
    "\n",
    "print(f\"✅ Created {len(chunked_records)} text chunks\")\n"
   ]
  },
  {
   "cell_type": "code",
   "execution_count": 9,
   "id": "0a7931c3",
   "metadata": {},
   "outputs": [
    {
     "name": "stdout",
     "output_type": "stream",
     "text": [
      "✅ Saved cleaned & chunked data to: E:/MiiHA/app/data/processed/chunks_medline.jsonl\n"
     ]
    }
   ],
   "source": [
    "output_path = \"E:/MiiHA/app/data/processed/chunks_medline.jsonl\"\n",
    "\n",
    "with open(output_path, \"w\", encoding=\"utf-8\") as f:\n",
    "    for chunk in chunked_records:\n",
    "        json.dump(chunk, f)\n",
    "        f.write(\"\\n\")\n",
    "\n",
    "print(\"✅ Saved cleaned & chunked data to:\", output_path)\n"
   ]
  },
  {
   "cell_type": "code",
   "execution_count": null,
   "id": "50431ccd",
   "metadata": {},
   "outputs": [],
   "source": []
  },
  {
   "cell_type": "code",
   "execution_count": null,
   "id": "d6522b87",
   "metadata": {},
   "outputs": [],
   "source": []
  }
 ],
 "metadata": {
  "kernelspec": {
   "display_name": "miiha",
   "language": "python",
   "name": "python3"
  },
  "language_info": {
   "codemirror_mode": {
    "name": "ipython",
    "version": 3
   },
   "file_extension": ".py",
   "mimetype": "text/x-python",
   "name": "python",
   "nbconvert_exporter": "python",
   "pygments_lexer": "ipython3",
   "version": "3.11.4"
  }
 },
 "nbformat": 4,
 "nbformat_minor": 5
}
