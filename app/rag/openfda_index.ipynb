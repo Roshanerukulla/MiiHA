{
 "cells": [
  {
   "cell_type": "code",
   "execution_count": 1,
   "id": "73f38a53",
   "metadata": {},
   "outputs": [
    {
     "name": "stderr",
     "output_type": "stream",
     "text": [
      "e:\\MiiHA\\miiha\\Lib\\site-packages\\tqdm\\auto.py:21: TqdmWarning: IProgress not found. Please update jupyter and ipywidgets. See https://ipywidgets.readthedocs.io/en/stable/user_install.html\n",
      "  from .autonotebook import tqdm as notebook_tqdm\n"
     ]
    }
   ],
   "source": [
    "import json\n",
    "import numpy as np\n",
    "import faiss\n",
    "from pathlib import Path\n",
    "from sentence_transformers import SentenceTransformer\n"
   ]
  },
  {
   "cell_type": "code",
   "execution_count": 2,
   "id": "3268da2a",
   "metadata": {},
   "outputs": [
    {
     "name": "stdout",
     "output_type": "stream",
     "text": [
      "✅ Loaded 1 OpenFDA chunks\n"
     ]
    }
   ],
   "source": [
    "processed_path = Path(\"E:/MiiHA/app/data/processed/openfda_indications.jsonl\")\n",
    "\n",
    "docs = []\n",
    "with open(processed_path, \"r\", encoding=\"utf-8\") as f:\n",
    "    for line in f:\n",
    "        docs.append(json.loads(line))\n",
    "\n",
    "texts = [doc[\"text\"] for doc in docs]\n",
    "\n",
    "print(f\"✅ Loaded {len(texts)} OpenFDA chunks\")\n"
   ]
  },
  {
   "cell_type": "code",
   "execution_count": 3,
   "id": "129aedd3",
   "metadata": {},
   "outputs": [
    {
     "name": "stderr",
     "output_type": "stream",
     "text": [
      "Batches: 100%|██████████| 1/1 [00:00<00:00, 25.86it/s]\n"
     ]
    }
   ],
   "source": [
    "model = SentenceTransformer(\"sentence-transformers/all-MiniLM-L6-v2\")\n",
    "embeddings = model.encode(texts, show_progress_bar=True)\n"
   ]
  },
  {
   "cell_type": "code",
   "execution_count": 4,
   "id": "e8002942",
   "metadata": {},
   "outputs": [
    {
     "name": "stdout",
     "output_type": "stream",
     "text": [
      "✅ FAISS index created and populated\n"
     ]
    }
   ],
   "source": [
    "dimension = embeddings.shape[1]\n",
    "index = faiss.IndexFlatL2(dimension)\n",
    "index.add(np.array(embeddings).astype(\"float32\"))\n",
    "\n",
    "print(\"✅ FAISS index created and populated\")\n"
   ]
  },
  {
   "cell_type": "code",
   "execution_count": 5,
   "id": "f83d5e4a",
   "metadata": {},
   "outputs": [],
   "source": [
    "faiss_output_path = Path(\"E:/MiiHA/app/db/openfda_drug.index\")\n",
    "faiss_output_path.parent.mkdir(parents=True, exist_ok=True)\n",
    "faiss.write_index(index, str(faiss_output_path))\n"
   ]
  },
  {
   "cell_type": "code",
   "execution_count": 6,
   "id": "7652ad4b",
   "metadata": {},
   "outputs": [
    {
     "name": "stdout",
     "output_type": "stream",
     "text": [
      "✅ Saved FAISS index and metadata successfully!\n"
     ]
    }
   ],
   "source": [
    "metadata = [{\"id\": doc[\"id\"], \"drug_name\": doc[\"drug_name\"], \"route\": doc[\"route\"], \"purpose\": doc[\"purpose\"]} for doc in docs]\n",
    "\n",
    "metadata_output_path = Path(\"E:/MiiHA/app/data/metadata/openfda_metadata.json\")\n",
    "metadata_output_path.parent.mkdir(parents=True, exist_ok=True)\n",
    "with open(metadata_output_path, \"w\", encoding=\"utf-8\") as f:\n",
    "    json.dump(metadata, f, indent=2)\n",
    "\n",
    "print(\"✅ Saved FAISS index and metadata successfully!\")\n"
   ]
  },
  {
   "cell_type": "code",
   "execution_count": null,
   "id": "a7ba7837",
   "metadata": {},
   "outputs": [],
   "source": []
  }
 ],
 "metadata": {
  "kernelspec": {
   "display_name": "miiha",
   "language": "python",
   "name": "python3"
  },
  "language_info": {
   "codemirror_mode": {
    "name": "ipython",
    "version": 3
   },
   "file_extension": ".py",
   "mimetype": "text/x-python",
   "name": "python",
   "nbconvert_exporter": "python",
   "pygments_lexer": "ipython3",
   "version": "3.11.4"
  }
 },
 "nbformat": 4,
 "nbformat_minor": 5
}
