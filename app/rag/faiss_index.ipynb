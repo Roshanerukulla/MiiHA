{
 "cells": [
  {
   "cell_type": "code",
   "execution_count": 11,
   "id": "812c5a11",
   "metadata": {},
   "outputs": [],
   "source": [
    "import json\n",
    "import numpy as np\n",
    "import faiss\n",
    "from pathlib import Path\n",
    "from sentence_transformers import SentenceTransformer\n"
   ]
  },
  {
   "cell_type": "code",
   "execution_count": 12,
   "id": "c04dd874",
   "metadata": {},
   "outputs": [],
   "source": [
    "chunks_path = Path(\"E:/MiiHA/app/data/processed/chunks_medline.jsonl\")"
   ]
  },
  {
   "cell_type": "code",
   "execution_count": 13,
   "id": "6c5cca9e",
   "metadata": {},
   "outputs": [],
   "source": [
    "docs = []\n",
    "with open(chunks_path, \"r\", encoding=\"utf-8\") as f:\n",
    "    for line in f:\n",
    "        docs.append(json.loads(line))\n",
    "\n",
    "# Create texts for embeddings\n",
    "texts = [doc[\"text\"] for doc in docs]\n"
   ]
  },
  {
   "cell_type": "code",
   "execution_count": 14,
   "id": "52d66963",
   "metadata": {},
   "outputs": [],
   "source": [
    "# Create fresh metadata\n",
    "metadata = [{\"id\": doc[\"id\"], \"title\": doc[\"title\"], \"url\": doc[\"url\"]} for doc in docs]\n"
   ]
  },
  {
   "cell_type": "code",
   "execution_count": 16,
   "id": "f0c57dac",
   "metadata": {},
   "outputs": [
    {
     "name": "stdout",
     "output_type": "stream",
     "text": [
      "✅ Loaded 2612 chunks\n",
      "✅ Saved 2612 metadata entries\n"
     ]
    }
   ],
   "source": [
    "# Save NEW metadata\n",
    "metadata_path = Path(\"E:/MiiHA/app/data/metadata/medline_metadata.json\")\n",
    "metadata_path.parent.mkdir(parents=True, exist_ok=True)\n",
    "with open(metadata_path, \"w\", encoding=\"utf-8\") as f:\n",
    "    json.dump(metadata, f, indent=2)\n",
    "\n",
    "print(f\"✅ Loaded {len(texts)} chunks\")\n",
    "print(f\"✅ Saved {len(metadata)} metadata entries\")"
   ]
  },
  {
   "cell_type": "code",
   "execution_count": 17,
   "id": "2827b9ca",
   "metadata": {},
   "outputs": [
    {
     "name": "stderr",
     "output_type": "stream",
     "text": [
      "Batches: 100%|██████████| 82/82 [00:28<00:00,  2.86it/s]\n"
     ]
    }
   ],
   "source": [
    "# Generate embeddings\n",
    "model = SentenceTransformer(\"sentence-transformers/all-MiniLM-L6-v2\")\n",
    "embeddings = model.encode(texts, show_progress_bar=True)\n"
   ]
  },
  {
   "cell_type": "code",
   "execution_count": 18,
   "id": "5a7e6768",
   "metadata": {},
   "outputs": [
    {
     "name": "stdout",
     "output_type": "stream",
     "text": [
      "✅ FAISS index created and populated\n"
     ]
    }
   ],
   "source": [
    "# Build FAISS index\n",
    "dimension = embeddings[0].shape[0]\n",
    "index = faiss.IndexFlatL2(dimension)\n",
    "index.add(np.array(embeddings).astype(\"float32\"))\n",
    "\n",
    "print(\"✅ FAISS index created and populated\")"
   ]
  },
  {
   "cell_type": "code",
   "execution_count": 19,
   "id": "47cefb22",
   "metadata": {},
   "outputs": [
    {
     "name": "stdout",
     "output_type": "stream",
     "text": [
      "✅ Index saved successfully!\n"
     ]
    }
   ],
   "source": [
    "# Save FAISS index\n",
    "output_index_path = Path(\"E:/MiiHA/app/db/miiha_medline.index\")\n",
    "output_index_path.parent.mkdir(parents=True, exist_ok=True)\n",
    "faiss.write_index(index, str(output_index_path))\n",
    "\n",
    "print(\"✅ Index saved successfully!\")"
   ]
  },
  {
   "cell_type": "code",
   "execution_count": null,
   "id": "62002a2b",
   "metadata": {},
   "outputs": [],
   "source": []
  },
  {
   "cell_type": "code",
   "execution_count": null,
   "id": "a776b160",
   "metadata": {},
   "outputs": [],
   "source": []
  }
 ],
 "metadata": {
  "kernelspec": {
   "display_name": "miiha",
   "language": "python",
   "name": "python3"
  },
  "language_info": {
   "codemirror_mode": {
    "name": "ipython",
    "version": 3
   },
   "file_extension": ".py",
   "mimetype": "text/x-python",
   "name": "python",
   "nbconvert_exporter": "python",
   "pygments_lexer": "ipython3",
   "version": "3.11.4"
  }
 },
 "nbformat": 4,
 "nbformat_minor": 5
}
